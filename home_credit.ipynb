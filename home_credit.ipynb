{
 "metadata": {
  "language_info": {
   "codemirror_mode": {
    "name": "ipython",
    "version": 3
   },
   "file_extension": ".py",
   "mimetype": "text/x-python",
   "name": "python",
   "nbconvert_exporter": "python",
   "pygments_lexer": "ipython3",
   "version": "3.7.7"
  },
  "orig_nbformat": 2,
  "kernelspec": {
   "name": "tensor",
   "display_name": "Tensor",
   "language": "python"
  }
 },
 "nbformat": 4,
 "nbformat_minor": 2,
 "cells": [
  {
   "source": [
    "# Modelling Home credit default with lightgbm"
   ],
   "cell_type": "markdown",
   "metadata": {}
  },
  {
   "cell_type": "code",
   "execution_count": 1,
   "metadata": {},
   "outputs": [],
   "source": [
    "import pandas as pd\n",
    "import numpy as np\n"
   ]
  },
  {
   "cell_type": "code",
   "execution_count": 2,
   "metadata": {},
   "outputs": [],
   "source": [
    "application_train = pd.read_csv('D:\\\\Code\\\\ML\\\\Home Credit Default\\\\Data\\\\application_train.csv')\n",
    "POS_CASH_balance = pd.read_csv('D:\\\\Code\\\\ML\\\\Home Credit Default\\\\Data\\\\POS_CASH_balance.csv')\n",
    "bureau_balance = pd.read_csv('D:\\\\Code\\\\ML\\\\Home Credit Default\\Data\\\\bureau_balance.csv')\n",
    "previous_application = pd.read_csv('D:\\\\Code\\\\ML\\\\Home Credit Default\\\\Data\\\\previous_application.csv')\n",
    "installments_payments = pd.read_csv('D:\\\\Code\\ML\\Home Credit Default\\Data\\installments_payments.csv')\n",
    "credit_card_balance = pd.read_csv('D:\\\\Code\\\\ML\\\\Home Credit Default\\Data\\\\credit_card_balance.csv')\n",
    "bureau = pd.read_csv('D:\\\\Code\\\\ML\\\\Home Credit Default\\\\Data\\\\bureau.csv')\n",
    "application_test = pd.read_csv('D:\\\\Code\\\\ML\\\\Home Credit Default\\Data\\\\application_test.csv')"
   ]
  },
  {
   "cell_type": "code",
   "execution_count": 3,
   "metadata": {},
   "outputs": [
    {
     "output_type": "execute_result",
     "data": {
      "text/plain": [
       "COMMONAREA_MEDI                0.698723\n",
       "COMMONAREA_AVG                 0.698723\n",
       "COMMONAREA_MODE                0.698723\n",
       "NONLIVINGAPARTMENTS_MODE       0.694330\n",
       "NONLIVINGAPARTMENTS_MEDI       0.694330\n",
       "                                 ...   \n",
       "REG_CITY_NOT_LIVE_CITY         0.000000\n",
       "LIVE_REGION_NOT_WORK_REGION    0.000000\n",
       "REG_REGION_NOT_WORK_REGION     0.000000\n",
       "HOUR_APPR_PROCESS_START        0.000000\n",
       "SK_ID_CURR                     0.000000\n",
       "Length: 122, dtype: float64"
      ]
     },
     "metadata": {},
     "execution_count": 3
    }
   ],
   "source": [
    "application_train.isnull().mean().sort_values(ascending = False)"
   ]
  },
  {
   "cell_type": "code",
   "execution_count": 4,
   "metadata": {},
   "outputs": [
    {
     "output_type": "execute_result",
     "data": {
      "text/plain": [
       "COMMONAREA_MEDI                0.698723\n",
       "COMMONAREA_AVG                 0.698723\n",
       "COMMONAREA_MODE                0.698723\n",
       "NONLIVINGAPARTMENTS_MODE       0.694330\n",
       "NONLIVINGAPARTMENTS_MEDI       0.694330\n",
       "                                 ...   \n",
       "REG_CITY_NOT_LIVE_CITY         0.000000\n",
       "LIVE_REGION_NOT_WORK_REGION    0.000000\n",
       "REG_REGION_NOT_WORK_REGION     0.000000\n",
       "HOUR_APPR_PROCESS_START        0.000000\n",
       "SK_ID_CURR                     0.000000\n",
       "Length: 122, dtype: float64"
      ]
     },
     "metadata": {},
     "execution_count": 4
    }
   ],
   "source": [
    "application_train.isnull().mean().sort_values(ascending = False)"
   ]
  },
  {
   "cell_type": "code",
   "execution_count": 5,
   "metadata": {},
   "outputs": [
    {
     "output_type": "execute_result",
     "data": {
      "text/plain": [
       "STATUS            0.0\n",
       "MONTHS_BALANCE    0.0\n",
       "SK_ID_BUREAU      0.0\n",
       "dtype: float64"
      ]
     },
     "metadata": {},
     "execution_count": 5
    }
   ],
   "source": [
    "bureau_balance.isnull().mean().sort_values(ascending = False)"
   ]
  },
  {
   "cell_type": "code",
   "execution_count": 6,
   "metadata": {},
   "outputs": [
    {
     "output_type": "execute_result",
     "data": {
      "text/plain": [
       "RATE_INTEREST_PRIVILEGED       9.964370e-01\n",
       "RATE_INTEREST_PRIMARY          9.964370e-01\n",
       "RATE_DOWN_PAYMENT              5.363648e-01\n",
       "AMT_DOWN_PAYMENT               5.363648e-01\n",
       "NAME_TYPE_SUITE                4.911975e-01\n",
       "DAYS_TERMINATION               4.029813e-01\n",
       "NFLAG_INSURED_ON_APPROVAL      4.029813e-01\n",
       "DAYS_FIRST_DRAWING             4.029813e-01\n",
       "DAYS_FIRST_DUE                 4.029813e-01\n",
       "DAYS_LAST_DUE_1ST_VERSION      4.029813e-01\n",
       "DAYS_LAST_DUE                  4.029813e-01\n",
       "AMT_GOODS_PRICE                2.308177e-01\n",
       "AMT_ANNUITY                    2.228667e-01\n",
       "CNT_PAYMENT                    2.228637e-01\n",
       "PRODUCT_COMBINATION            2.071591e-04\n",
       "AMT_CREDIT                     5.987257e-07\n",
       "SK_ID_CURR                     0.000000e+00\n",
       "NAME_CONTRACT_TYPE             0.000000e+00\n",
       "WEEKDAY_APPR_PROCESS_START     0.000000e+00\n",
       "HOUR_APPR_PROCESS_START        0.000000e+00\n",
       "FLAG_LAST_APPL_PER_CONTRACT    0.000000e+00\n",
       "NFLAG_LAST_APPL_IN_DAY         0.000000e+00\n",
       "AMT_APPLICATION                0.000000e+00\n",
       "NAME_PAYMENT_TYPE              0.000000e+00\n",
       "NAME_CASH_LOAN_PURPOSE         0.000000e+00\n",
       "NAME_CONTRACT_STATUS           0.000000e+00\n",
       "DAYS_DECISION                  0.000000e+00\n",
       "CODE_REJECT_REASON             0.000000e+00\n",
       "NAME_CLIENT_TYPE               0.000000e+00\n",
       "NAME_GOODS_CATEGORY            0.000000e+00\n",
       "NAME_PORTFOLIO                 0.000000e+00\n",
       "NAME_PRODUCT_TYPE              0.000000e+00\n",
       "CHANNEL_TYPE                   0.000000e+00\n",
       "SELLERPLACE_AREA               0.000000e+00\n",
       "NAME_SELLER_INDUSTRY           0.000000e+00\n",
       "NAME_YIELD_GROUP               0.000000e+00\n",
       "SK_ID_PREV                     0.000000e+00\n",
       "dtype: float64"
      ]
     },
     "metadata": {},
     "execution_count": 6
    }
   ],
   "source": [
    "previous_application.isnull().mean().sort_values(ascending = False)"
   ]
  },
  {
   "cell_type": "code",
   "execution_count": 7,
   "metadata": {},
   "outputs": [
    {
     "output_type": "execute_result",
     "data": {
      "text/plain": [
       "AMT_PAYMENT               0.000214\n",
       "DAYS_ENTRY_PAYMENT        0.000214\n",
       "AMT_INSTALMENT            0.000000\n",
       "DAYS_INSTALMENT           0.000000\n",
       "NUM_INSTALMENT_NUMBER     0.000000\n",
       "NUM_INSTALMENT_VERSION    0.000000\n",
       "SK_ID_CURR                0.000000\n",
       "SK_ID_PREV                0.000000\n",
       "dtype: float64"
      ]
     },
     "metadata": {},
     "execution_count": 7
    }
   ],
   "source": [
    "installments_payments.isnull().mean().sort_values(ascending = False)"
   ]
  },
  {
   "cell_type": "code",
   "execution_count": 8,
   "metadata": {},
   "outputs": [
    {
     "output_type": "execute_result",
     "data": {
      "text/plain": [
       "AMT_PAYMENT_CURRENT           0.199981\n",
       "AMT_DRAWINGS_OTHER_CURRENT    0.195249\n",
       "CNT_DRAWINGS_POS_CURRENT      0.195249\n",
       "CNT_DRAWINGS_OTHER_CURRENT    0.195249\n",
       "CNT_DRAWINGS_ATM_CURRENT      0.195249\n",
       "AMT_DRAWINGS_ATM_CURRENT      0.195249\n",
       "AMT_DRAWINGS_POS_CURRENT      0.195249\n",
       "CNT_INSTALMENT_MATURE_CUM     0.079482\n",
       "AMT_INST_MIN_REGULARITY       0.079482\n",
       "SK_DPD_DEF                    0.000000\n",
       "SK_ID_CURR                    0.000000\n",
       "MONTHS_BALANCE                0.000000\n",
       "AMT_BALANCE                   0.000000\n",
       "AMT_CREDIT_LIMIT_ACTUAL       0.000000\n",
       "AMT_DRAWINGS_CURRENT          0.000000\n",
       "AMT_PAYMENT_TOTAL_CURRENT     0.000000\n",
       "SK_DPD                        0.000000\n",
       "AMT_RECEIVABLE_PRINCIPAL      0.000000\n",
       "AMT_RECIVABLE                 0.000000\n",
       "AMT_TOTAL_RECEIVABLE          0.000000\n",
       "CNT_DRAWINGS_CURRENT          0.000000\n",
       "NAME_CONTRACT_STATUS          0.000000\n",
       "SK_ID_PREV                    0.000000\n",
       "dtype: float64"
      ]
     },
     "metadata": {},
     "execution_count": 8
    }
   ],
   "source": [
    "credit_card_balance.isnull().mean().sort_values(ascending = False)"
   ]
  },
  {
   "cell_type": "code",
   "execution_count": 9,
   "metadata": {},
   "outputs": [
    {
     "output_type": "execute_result",
     "data": {
      "text/plain": [
       "AMT_ANNUITY               0.714735\n",
       "AMT_CREDIT_MAX_OVERDUE    0.655133\n",
       "DAYS_ENDDATE_FACT         0.369170\n",
       "AMT_CREDIT_SUM_LIMIT      0.344774\n",
       "AMT_CREDIT_SUM_DEBT       0.150119\n",
       "DAYS_CREDIT_ENDDATE       0.061496\n",
       "AMT_CREDIT_SUM            0.000008\n",
       "CREDIT_TYPE               0.000000\n",
       "AMT_CREDIT_SUM_OVERDUE    0.000000\n",
       "CNT_CREDIT_PROLONG        0.000000\n",
       "DAYS_CREDIT_UPDATE        0.000000\n",
       "CREDIT_DAY_OVERDUE        0.000000\n",
       "DAYS_CREDIT               0.000000\n",
       "CREDIT_CURRENCY           0.000000\n",
       "CREDIT_ACTIVE             0.000000\n",
       "SK_ID_BUREAU              0.000000\n",
       "SK_ID_CURR                0.000000\n",
       "dtype: float64"
      ]
     },
     "metadata": {},
     "execution_count": 9
    }
   ],
   "source": [
    "bureau.isnull().mean().sort_values(ascending = False)"
   ]
  },
  {
   "cell_type": "code",
   "execution_count": 10,
   "metadata": {},
   "outputs": [
    {
     "output_type": "execute_result",
     "data": {
      "text/plain": [
       "   SK_ID_CURR  TARGET  NAME_CONTRACT_TYPE  CODE_GENDER  FLAG_OWN_CAR  \\\n",
       "0      100002       1                   0            1             0   \n",
       "1      100003       0                   0            0             0   \n",
       "2      100004       0                   1            1             1   \n",
       "3      100006       0                   0            0             0   \n",
       "4      100007       0                   0            1             0   \n",
       "\n",
       "   FLAG_OWN_REALTY  CNT_CHILDREN  AMT_INCOME_TOTAL  AMT_CREDIT  AMT_ANNUITY  \\\n",
       "0                1             0          202500.0    406597.5      24700.5   \n",
       "1                0             0          270000.0   1293502.5      35698.5   \n",
       "2                1             0           67500.0    135000.0       6750.0   \n",
       "3                1             0          135000.0    312682.5      29686.5   \n",
       "4                1             0          121500.0    513000.0      21865.5   \n",
       "\n",
       "   ...  FLAG_DOCUMENT_18  FLAG_DOCUMENT_19  FLAG_DOCUMENT_20  \\\n",
       "0  ...                 0                 0                 0   \n",
       "1  ...                 0                 0                 0   \n",
       "2  ...                 0                 0                 0   \n",
       "3  ...                 0                 0                 0   \n",
       "4  ...                 0                 0                 0   \n",
       "\n",
       "   FLAG_DOCUMENT_21  AMT_REQ_CREDIT_BUREAU_HOUR  AMT_REQ_CREDIT_BUREAU_DAY  \\\n",
       "0                 0                         0.0                        0.0   \n",
       "1                 0                         0.0                        0.0   \n",
       "2                 0                         0.0                        0.0   \n",
       "3                 0                         NaN                        NaN   \n",
       "4                 0                         0.0                        0.0   \n",
       "\n",
       "   AMT_REQ_CREDIT_BUREAU_WEEK  AMT_REQ_CREDIT_BUREAU_MON  \\\n",
       "0                         0.0                        0.0   \n",
       "1                         0.0                        0.0   \n",
       "2                         0.0                        0.0   \n",
       "3                         NaN                        NaN   \n",
       "4                         0.0                        0.0   \n",
       "\n",
       "   AMT_REQ_CREDIT_BUREAU_QRT  AMT_REQ_CREDIT_BUREAU_YEAR  \n",
       "0                        0.0                         1.0  \n",
       "1                        0.0                         0.0  \n",
       "2                        0.0                         0.0  \n",
       "3                        NaN                         NaN  \n",
       "4                        0.0                         0.0  \n",
       "\n",
       "[5 rows x 122 columns]"
      ],
      "text/html": "<div>\n<style scoped>\n    .dataframe tbody tr th:only-of-type {\n        vertical-align: middle;\n    }\n\n    .dataframe tbody tr th {\n        vertical-align: top;\n    }\n\n    .dataframe thead th {\n        text-align: right;\n    }\n</style>\n<table border=\"1\" class=\"dataframe\">\n  <thead>\n    <tr style=\"text-align: right;\">\n      <th></th>\n      <th>SK_ID_CURR</th>\n      <th>TARGET</th>\n      <th>NAME_CONTRACT_TYPE</th>\n      <th>CODE_GENDER</th>\n      <th>FLAG_OWN_CAR</th>\n      <th>FLAG_OWN_REALTY</th>\n      <th>CNT_CHILDREN</th>\n      <th>AMT_INCOME_TOTAL</th>\n      <th>AMT_CREDIT</th>\n      <th>AMT_ANNUITY</th>\n      <th>...</th>\n      <th>FLAG_DOCUMENT_18</th>\n      <th>FLAG_DOCUMENT_19</th>\n      <th>FLAG_DOCUMENT_20</th>\n      <th>FLAG_DOCUMENT_21</th>\n      <th>AMT_REQ_CREDIT_BUREAU_HOUR</th>\n      <th>AMT_REQ_CREDIT_BUREAU_DAY</th>\n      <th>AMT_REQ_CREDIT_BUREAU_WEEK</th>\n      <th>AMT_REQ_CREDIT_BUREAU_MON</th>\n      <th>AMT_REQ_CREDIT_BUREAU_QRT</th>\n      <th>AMT_REQ_CREDIT_BUREAU_YEAR</th>\n    </tr>\n  </thead>\n  <tbody>\n    <tr>\n      <th>0</th>\n      <td>100002</td>\n      <td>1</td>\n      <td>0</td>\n      <td>1</td>\n      <td>0</td>\n      <td>1</td>\n      <td>0</td>\n      <td>202500.0</td>\n      <td>406597.5</td>\n      <td>24700.5</td>\n      <td>...</td>\n      <td>0</td>\n      <td>0</td>\n      <td>0</td>\n      <td>0</td>\n      <td>0.0</td>\n      <td>0.0</td>\n      <td>0.0</td>\n      <td>0.0</td>\n      <td>0.0</td>\n      <td>1.0</td>\n    </tr>\n    <tr>\n      <th>1</th>\n      <td>100003</td>\n      <td>0</td>\n      <td>0</td>\n      <td>0</td>\n      <td>0</td>\n      <td>0</td>\n      <td>0</td>\n      <td>270000.0</td>\n      <td>1293502.5</td>\n      <td>35698.5</td>\n      <td>...</td>\n      <td>0</td>\n      <td>0</td>\n      <td>0</td>\n      <td>0</td>\n      <td>0.0</td>\n      <td>0.0</td>\n      <td>0.0</td>\n      <td>0.0</td>\n      <td>0.0</td>\n      <td>0.0</td>\n    </tr>\n    <tr>\n      <th>2</th>\n      <td>100004</td>\n      <td>0</td>\n      <td>1</td>\n      <td>1</td>\n      <td>1</td>\n      <td>1</td>\n      <td>0</td>\n      <td>67500.0</td>\n      <td>135000.0</td>\n      <td>6750.0</td>\n      <td>...</td>\n      <td>0</td>\n      <td>0</td>\n      <td>0</td>\n      <td>0</td>\n      <td>0.0</td>\n      <td>0.0</td>\n      <td>0.0</td>\n      <td>0.0</td>\n      <td>0.0</td>\n      <td>0.0</td>\n    </tr>\n    <tr>\n      <th>3</th>\n      <td>100006</td>\n      <td>0</td>\n      <td>0</td>\n      <td>0</td>\n      <td>0</td>\n      <td>1</td>\n      <td>0</td>\n      <td>135000.0</td>\n      <td>312682.5</td>\n      <td>29686.5</td>\n      <td>...</td>\n      <td>0</td>\n      <td>0</td>\n      <td>0</td>\n      <td>0</td>\n      <td>NaN</td>\n      <td>NaN</td>\n      <td>NaN</td>\n      <td>NaN</td>\n      <td>NaN</td>\n      <td>NaN</td>\n    </tr>\n    <tr>\n      <th>4</th>\n      <td>100007</td>\n      <td>0</td>\n      <td>0</td>\n      <td>1</td>\n      <td>0</td>\n      <td>1</td>\n      <td>0</td>\n      <td>121500.0</td>\n      <td>513000.0</td>\n      <td>21865.5</td>\n      <td>...</td>\n      <td>0</td>\n      <td>0</td>\n      <td>0</td>\n      <td>0</td>\n      <td>0.0</td>\n      <td>0.0</td>\n      <td>0.0</td>\n      <td>0.0</td>\n      <td>0.0</td>\n      <td>0.0</td>\n    </tr>\n  </tbody>\n</table>\n<p>5 rows × 122 columns</p>\n</div>"
     },
     "metadata": {},
     "execution_count": 10
    }
   ],
   "source": [
    "from sklearn.preprocessing import LabelEncoder\n",
    "for c in application_train.columns:\n",
    "    if (c!='SK_ID_CURR') & (application_train[c].dtypes==object):\n",
    "        LE = LabelEncoder()\n",
    "        LE.fit(list(application_train[c].values.astype('str')) + list(application_test[c].values.astype('str')))\n",
    "        application_train[c] = LE.transform(list(application_train[c].values.astype('str')))\n",
    "        application_test[c] = LE.transform(list(application_test[c].values.astype('str')))\n",
    "application_train.head()"
   ]
  },
  {
   "cell_type": "code",
   "execution_count": 11,
   "metadata": {},
   "outputs": [],
   "source": [
    "application_train.fillna(-1, inplace = True)"
   ]
  },
  {
   "cell_type": "code",
   "execution_count": 12,
   "metadata": {},
   "outputs": [],
   "source": [
    "df = application_train.append(application_test).reset_index()\n",
    "\n",
    "\n",
    "df['DAYS_EMPLOYED'].replace(365243, -1, inplace= True)\n",
    "df['DAYS_EMPLOYED_PERC'] = df['DAYS_EMPLOYED'] / df['DAYS_BIRTH']\n",
    "df['INCOME_CREDIT_PERC'] = df['AMT_INCOME_TOTAL'] / df['AMT_CREDIT']\n",
    "df['INCOME_PER_PERSON'] = df['AMT_INCOME_TOTAL'] / df['CNT_FAM_MEMBERS']\n",
    "df['ANNUITY_INCOME_PERC'] = df['AMT_ANNUITY'] / df['AMT_INCOME_TOTAL']\n",
    "df['PAYMENT_RATE'] = df['AMT_ANNUITY'] / df['AMT_CREDIT']\n",
    "\n",
    "previous_application['DAYS_FIRST_DRAWING'].replace(365243, -1, inplace= True)\n",
    "previous_application['DAYS_FIRST_DUE'].replace(365243, -1, inplace= True)\n",
    "previous_application['DAYS_LAST_DUE_1ST_VERSION'].replace(365243, -1, inplace= True)\n",
    "previous_application['DAYS_LAST_DUE'].replace(365243, -1, inplace= True)\n",
    "previous_application['DAYS_TERMINATION'].replace(365243, -1, inplace= True)\n",
    "previous_application['APP_CREDIT_PERC'] = previous_application['AMT_APPLICATION'] / previous_application['AMT_CREDIT']\n",
    "\n",
    "installments_payments['PAYMENT_PERC'] = installments_payments['AMT_PAYMENT'] / installments_payments['AMT_INSTALMENT']\n",
    "installments_payments['PAYMENT_DIFF'] = installments_payments['AMT_INSTALMENT'] - installments_payments['AMT_PAYMENT']\n",
    "installments_payments['DPD'] = installments_payments['DAYS_ENTRY_PAYMENT'] - installments_payments['DAYS_INSTALMENT']\n",
    "installments_payments['DBD'] = installments_payments['DAYS_INSTALMENT'] - installments_payments['DAYS_ENTRY_PAYMENT']\n",
    "installments_payments['DPD'] = installments_payments['DPD'].apply(lambda x: x if x > 0 else 0)\n",
    "installments_payments['DBD'] = installments_payments['DBD'].apply(lambda x: x if x > 0 else 0)"
   ]
  },
  {
   "cell_type": "code",
   "execution_count": 13,
   "metadata": {},
   "outputs": [],
   "source": [
    "bb_aggregations = {'MONTHS_BALANCE': ['min', 'max', 'size']}\n",
    "\n",
    "bb_agg = bureau_balance.groupby('SK_ID_BUREAU').agg(bb_aggregations)\n",
    "bb_agg.columns = pd.Index([col[0] + \"_\" + col[1].upper() for col in bb_agg.columns.tolist()])\n",
    "bureau = bureau.join(bb_agg, how='left', on='SK_ID_BUREAU')\n",
    "bureau.drop(['SK_ID_BUREAU'], axis=1, inplace= True)\n",
    "del bb_agg\n",
    "\n",
    "\n",
    "aggregations = {\n",
    "    'DAYS_CREDIT': ['min', 'max', 'mean', 'var'],\n",
    "    'DAYS_CREDIT_ENDDATE': ['mean','var'],\n",
    "    'DAYS_CREDIT_UPDATE': ['mean'],\n",
    "    'CREDIT_DAY_OVERDUE': ['mean','var'],\n",
    "    'AMT_CREDIT_MAX_OVERDUE': ['mean'],\n",
    "    'AMT_CREDIT_SUM': ['max', 'mean', 'var'],\n",
    "    'AMT_CREDIT_SUM_DEBT': ['max', 'mean', 'var'],\n",
    "    'AMT_CREDIT_SUM_OVERDUE': ['mean'],\n",
    "    'AMT_CREDIT_SUM_LIMIT': ['mean', 'var'],\n",
    "    'AMT_ANNUITY': ['max', 'mean'],\n",
    "    'CNT_CREDIT_PROLONG': ['sum'],\n",
    "    'MONTHS_BALANCE_MIN': ['min'],\n",
    "    'MONTHS_BALANCE_MAX': ['max'],\n",
    "    'MONTHS_BALANCE_SIZE': ['mean', 'var']\n",
    "}\n",
    "\n",
    "bureau_agg = bureau.groupby('SK_ID_CURR').agg({**aggregations})\n",
    "bureau_agg.columns = pd.Index(['BURO_' + col[0] + \"_\" + col[1].upper() for col in bureau_agg.columns.tolist()])\n",
    "\n",
    "del bureau, bureau_balance\n",
    "df = pd.merge(df, bureau_agg, how='left', on='SK_ID_CURR')\n",
    "del bureau_agg\n"
   ]
  },
  {
   "cell_type": "code",
   "execution_count": 15,
   "metadata": {},
   "outputs": [],
   "source": [
    "for c in previous_application.columns:\n",
    "    if previous_application[c].dtypes==object:\n",
    "        LE = LabelEncoder()\n",
    "        previous_application[c] = LE.fit_transform(list(previous_application[c].values.astype('str')))\n",
    "aggregations = {\n",
    "        'AMT_ANNUITY': ['min', 'max', 'mean'],\n",
    "        'AMT_APPLICATION': ['min', 'max', 'mean'],\n",
    "        'AMT_CREDIT': ['min', 'max', 'mean'],\n",
    "        'APP_CREDIT_PERC': ['min', 'max', 'mean', 'var'],\n",
    "        'AMT_DOWN_PAYMENT': ['min', 'max', 'mean'],\n",
    "        'AMT_GOODS_PRICE': ['min', 'max', 'mean'],\n",
    "        'HOUR_APPR_PROCESS_START': ['min', 'max', 'mean'],\n",
    "        'RATE_DOWN_PAYMENT': ['min', 'max', 'mean'],\n",
    "        'DAYS_DECISION': ['min', 'max', 'mean'],\n",
    "        'CNT_PAYMENT': ['mean', 'var'],\n",
    "    }\n",
    "prev_agg = previous_application.groupby('SK_ID_CURR').agg({**aggregations})\n",
    "prev_agg.columns = pd.Index(['PREV_' + col[0] + \"_\" + col[1].upper() for col in prev_agg.columns.tolist()])\n",
    "\n",
    "del previous_application\n",
    "df = pd.merge(df,prev_agg, how='left', on='SK_ID_CURR')\n",
    "\n",
    "del prev_agg\n"
   ]
  },
  {
   "cell_type": "code",
   "execution_count": 16,
   "metadata": {},
   "outputs": [],
   "source": [
    "for c in POS_CASH_balance.columns:\n",
    "    if POS_CASH_balance[c].dtypes==object:\n",
    "        LE = LabelEncoder()\n",
    "        POS_CASH_balance[c] = LE.fit_transform(list(POS_CASH_balance[c].values.astype('str')))\n",
    "aggregations = {\n",
    "        'MONTHS_BALANCE': ['max', 'mean', 'size'],\n",
    "        'SK_DPD': ['max', 'mean', 'var'],\n",
    "        'SK_DPD_DEF': ['max', 'mean', 'var']\n",
    "    }\n",
    "pos_agg = POS_CASH_balance.groupby('SK_ID_CURR').agg(aggregations)\n",
    "pos_agg.columns = pd.Index(['POS_' + col[0] + \"_\" + col[1].upper() for col in pos_agg.columns.tolist()])\n",
    "pos_agg['POS_COUNT'] = POS_CASH_balance.groupby('SK_ID_CURR').size()\n",
    "del POS_CASH_balance\n",
    "df = pd.merge(df,pos_agg, how='left', on='SK_ID_CURR')\n",
    "del pos_agg"
   ]
  },
  {
   "cell_type": "code",
   "execution_count": 17,
   "metadata": {},
   "outputs": [],
   "source": [
    "for c in installments_payments.columns:\n",
    "    if installments_payments[c].dtypes==object:\n",
    "        LE = LabelEncoder()\n",
    "        installments_payments[c] = LE.fit_transform(list(installments_payments[c].values.astype('str')))\n",
    "\n",
    "aggregations = {\n",
    "        'NUM_INSTALMENT_VERSION': ['nunique'],\n",
    "        'DPD': ['max', 'mean', 'sum'],\n",
    "        'DBD': ['max', 'mean', 'sum'],\n",
    "        'PAYMENT_PERC': ['max', 'mean', 'sum', 'var'],\n",
    "        'PAYMENT_DIFF': ['max', 'mean', 'sum', 'var'],\n",
    "        'AMT_INSTALMENT': ['max', 'mean', 'sum'],\n",
    "        'AMT_PAYMENT': ['min', 'max', 'mean', 'sum'],\n",
    "        'DAYS_ENTRY_PAYMENT': ['max', 'mean', 'sum']\n",
    "    }\n",
    "ins_agg = installments_payments.groupby('SK_ID_CURR').agg(aggregations)\n",
    "ins_agg.columns = pd.Index(['INSTAL_' + col[0] + \"_\" + col[1].upper() for col in ins_agg.columns.tolist()])\n",
    "\n",
    "ins_agg['INSTAL_COUNT'] = installments_payments.groupby('SK_ID_CURR').size()\n",
    "del installments_payments\n",
    "      \n",
    "df = pd.merge(df,ins_agg, how='left', on='SK_ID_CURR')\n",
    "del ins_agg\n"
   ]
  },
  {
   "cell_type": "code",
   "execution_count": 18,
   "metadata": {},
   "outputs": [],
   "source": [
    "for c in credit_card_balance.columns:\n",
    "    if credit_card_balance[c].dtypes==object:\n",
    "        LE = LabelEncoder()\n",
    "        credit_card_balance[c] = LE.fit_transform(list(credit_card_balance[c].values.astype('str')))\n",
    "credit_card_balance.drop(['SK_ID_PREV'], axis= 1, inplace = True)\n",
    "cc_agg = credit_card_balance.groupby('SK_ID_CURR').agg(['min', 'max', 'mean', 'sum', 'var'])\n",
    "cc_agg.columns = pd.Index(['CC_' + col[0] + \"_\" + col[1].upper() for col in cc_agg.columns.tolist()])\n",
    "cc_agg['CC_COUNT'] = credit_card_balance.groupby('SK_ID_CURR').size()\n",
    "\n",
    "df = pd.merge(df,cc_agg, how='left', on='SK_ID_CURR')\n",
    "del credit_card_balance, cc_agg"
   ]
  },
  {
   "cell_type": "code",
   "execution_count": 19,
   "metadata": {},
   "outputs": [],
   "source": [
    "df_train, df_test = df.iloc[:len(application_train)], df.iloc[len(application_train):]\n",
    "del application_train, application_test, df\n",
    "\n",
    "df_train.to_csv('home_credit_train_engineered.csv')\n",
    "df_test.to_csv('home_credit_test_engineered.csv')"
   ]
  },
  {
   "cell_type": "code",
   "execution_count": 22,
   "metadata": {},
   "outputs": [
    {
     "output_type": "stream",
     "name": "stdout",
     "text": [
      "[LightGBM] [Warning] num_threads is set with n_jobs=-1, nthread=4 will be ignored. Current value: num_threads=-1\n",
      "Training until validation scores don't improve for 100 rounds\n",
      "[200]\ttraining's auc: 0.790424\ttraining's binary_logloss: 0.237852\tvalid_1's auc: 0.771543\tvalid_1's binary_logloss: 0.243545\n",
      "[400]\ttraining's auc: 0.81107\ttraining's binary_logloss: 0.229252\tvalid_1's auc: 0.782948\tvalid_1's binary_logloss: 0.239194\n",
      "[600]\ttraining's auc: 0.825085\ttraining's binary_logloss: 0.223673\tvalid_1's auc: 0.787203\tvalid_1's binary_logloss: 0.237721\n",
      "[800]\ttraining's auc: 0.836232\ttraining's binary_logloss: 0.219288\tvalid_1's auc: 0.788926\tvalid_1's binary_logloss: 0.237118\n",
      "[1000]\ttraining's auc: 0.845905\ttraining's binary_logloss: 0.215432\tvalid_1's auc: 0.790026\tvalid_1's binary_logloss: 0.236777\n",
      "[1200]\ttraining's auc: 0.854184\ttraining's binary_logloss: 0.211946\tvalid_1's auc: 0.790777\tvalid_1's binary_logloss: 0.236481\n",
      "[1400]\ttraining's auc: 0.862147\ttraining's binary_logloss: 0.208583\tvalid_1's auc: 0.791238\tvalid_1's binary_logloss: 0.236312\n",
      "Early stopping, best iteration is:\n",
      "[1379]\ttraining's auc: 0.861288\ttraining's binary_logloss: 0.208943\tvalid_1's auc: 0.791307\tvalid_1's binary_logloss: 0.236308\n",
      "[LightGBM] [Warning] num_threads is set with n_jobs=-1, nthread=4 will be ignored. Current value: num_threads=-1\n",
      "Training until validation scores don't improve for 100 rounds\n",
      "[200]\ttraining's auc: 0.790484\ttraining's binary_logloss: 0.237813\tvalid_1's auc: 0.770106\tvalid_1's binary_logloss: 0.243532\n",
      "[400]\ttraining's auc: 0.81121\ttraining's binary_logloss: 0.229183\tvalid_1's auc: 0.779756\tvalid_1's binary_logloss: 0.239656\n",
      "[600]\ttraining's auc: 0.825262\ttraining's binary_logloss: 0.223653\tvalid_1's auc: 0.783076\tvalid_1's binary_logloss: 0.238373\n",
      "[800]\ttraining's auc: 0.836271\ttraining's binary_logloss: 0.219345\tvalid_1's auc: 0.784179\tvalid_1's binary_logloss: 0.237963\n",
      "[1000]\ttraining's auc: 0.845642\ttraining's binary_logloss: 0.215581\tvalid_1's auc: 0.784909\tvalid_1's binary_logloss: 0.237722\n",
      "[1200]\ttraining's auc: 0.854265\ttraining's binary_logloss: 0.212018\tvalid_1's auc: 0.785305\tvalid_1's binary_logloss: 0.237576\n",
      "[1400]\ttraining's auc: 0.862273\ttraining's binary_logloss: 0.208709\tvalid_1's auc: 0.785545\tvalid_1's binary_logloss: 0.237524\n",
      "[1600]\ttraining's auc: 0.869648\ttraining's binary_logloss: 0.205452\tvalid_1's auc: 0.785876\tvalid_1's binary_logloss: 0.237466\n",
      "Early stopping, best iteration is:\n",
      "[1597]\ttraining's auc: 0.869542\ttraining's binary_logloss: 0.205497\tvalid_1's auc: 0.785912\tvalid_1's binary_logloss: 0.237453\n",
      "[LightGBM] [Warning] num_threads is set with n_jobs=-1, nthread=4 will be ignored. Current value: num_threads=-1\n",
      "Training until validation scores don't improve for 100 rounds\n",
      "[200]\ttraining's auc: 0.790248\ttraining's binary_logloss: 0.237921\tvalid_1's auc: 0.770997\tvalid_1's binary_logloss: 0.243463\n",
      "[400]\ttraining's auc: 0.811095\ttraining's binary_logloss: 0.229262\tvalid_1's auc: 0.780687\tvalid_1's binary_logloss: 0.23948\n",
      "[600]\ttraining's auc: 0.825334\ttraining's binary_logloss: 0.22359\tvalid_1's auc: 0.785118\tvalid_1's binary_logloss: 0.237888\n",
      "[800]\ttraining's auc: 0.836455\ttraining's binary_logloss: 0.219193\tvalid_1's auc: 0.787128\tvalid_1's binary_logloss: 0.23723\n",
      "[1000]\ttraining's auc: 0.84588\ttraining's binary_logloss: 0.21544\tvalid_1's auc: 0.788226\tvalid_1's binary_logloss: 0.236851\n",
      "[1200]\ttraining's auc: 0.854598\ttraining's binary_logloss: 0.211873\tvalid_1's auc: 0.788732\tvalid_1's binary_logloss: 0.236661\n",
      "Early stopping, best iteration is:\n",
      "[1245]\ttraining's auc: 0.856386\ttraining's binary_logloss: 0.211131\tvalid_1's auc: 0.788892\tvalid_1's binary_logloss: 0.236598\n",
      "[LightGBM] [Warning] num_threads is set with n_jobs=-1, nthread=4 will be ignored. Current value: num_threads=-1\n",
      "Training until validation scores don't improve for 100 rounds\n",
      "[200]\ttraining's auc: 0.790934\ttraining's binary_logloss: 0.237826\tvalid_1's auc: 0.770254\tvalid_1's binary_logloss: 0.243684\n",
      "[400]\ttraining's auc: 0.811757\ttraining's binary_logloss: 0.229112\tvalid_1's auc: 0.779609\tvalid_1's binary_logloss: 0.239769\n",
      "[600]\ttraining's auc: 0.825606\ttraining's binary_logloss: 0.223581\tvalid_1's auc: 0.78294\tvalid_1's binary_logloss: 0.238445\n",
      "[800]\ttraining's auc: 0.836837\ttraining's binary_logloss: 0.219139\tvalid_1's auc: 0.784339\tvalid_1's binary_logloss: 0.237906\n",
      "[1000]\ttraining's auc: 0.846346\ttraining's binary_logloss: 0.215303\tvalid_1's auc: 0.784893\tvalid_1's binary_logloss: 0.23771\n",
      "Early stopping, best iteration is:\n",
      "[1024]\ttraining's auc: 0.847412\ttraining's binary_logloss: 0.214863\tvalid_1's auc: 0.784979\tvalid_1's binary_logloss: 0.237681\n",
      "[LightGBM] [Warning] num_threads is set with n_jobs=-1, nthread=4 will be ignored. Current value: num_threads=-1\n",
      "Training until validation scores don't improve for 100 rounds\n",
      "[200]\ttraining's auc: 0.79008\ttraining's binary_logloss: 0.237893\tvalid_1's auc: 0.773289\tvalid_1's binary_logloss: 0.243301\n",
      "[400]\ttraining's auc: 0.810621\ttraining's binary_logloss: 0.229315\tvalid_1's auc: 0.784401\tvalid_1's binary_logloss: 0.238994\n",
      "[600]\ttraining's auc: 0.824705\ttraining's binary_logloss: 0.223778\tvalid_1's auc: 0.788386\tvalid_1's binary_logloss: 0.237449\n",
      "[800]\ttraining's auc: 0.835865\ttraining's binary_logloss: 0.219387\tvalid_1's auc: 0.790094\tvalid_1's binary_logloss: 0.23679\n",
      "[1000]\ttraining's auc: 0.845484\ttraining's binary_logloss: 0.215524\tvalid_1's auc: 0.790603\tvalid_1's binary_logloss: 0.236564\n",
      "[1200]\ttraining's auc: 0.854172\ttraining's binary_logloss: 0.211969\tvalid_1's auc: 0.790964\tvalid_1's binary_logloss: 0.236409\n",
      "Early stopping, best iteration is:\n",
      "[1258]\ttraining's auc: 0.856531\ttraining's binary_logloss: 0.210966\tvalid_1's auc: 0.791061\tvalid_1's binary_logloss: 0.236373\n",
      "[LightGBM] [Warning] num_threads is set with n_jobs=-1, nthread=4 will be ignored. Current value: num_threads=-1\n",
      "Training until validation scores don't improve for 100 rounds\n",
      "[200]\ttraining's auc: 0.791302\ttraining's binary_logloss: 0.237499\tvalid_1's auc: 0.764969\tvalid_1's binary_logloss: 0.245327\n",
      "[400]\ttraining's auc: 0.811698\ttraining's binary_logloss: 0.228969\tvalid_1's auc: 0.776486\tvalid_1's binary_logloss: 0.241339\n",
      "[600]\ttraining's auc: 0.825296\ttraining's binary_logloss: 0.223513\tvalid_1's auc: 0.780989\tvalid_1's binary_logloss: 0.239806\n",
      "[800]\ttraining's auc: 0.836421\ttraining's binary_logloss: 0.219171\tvalid_1's auc: 0.782407\tvalid_1's binary_logloss: 0.239349\n",
      "[1000]\ttraining's auc: 0.845887\ttraining's binary_logloss: 0.215301\tvalid_1's auc: 0.783464\tvalid_1's binary_logloss: 0.239046\n",
      "[1200]\ttraining's auc: 0.85445\ttraining's binary_logloss: 0.211773\tvalid_1's auc: 0.78414\tvalid_1's binary_logloss: 0.238844\n",
      "[1400]\ttraining's auc: 0.862502\ttraining's binary_logloss: 0.208358\tvalid_1's auc: 0.784344\tvalid_1's binary_logloss: 0.238792\n",
      "Early stopping, best iteration is:\n",
      "[1387]\ttraining's auc: 0.861999\ttraining's binary_logloss: 0.208573\tvalid_1's auc: 0.784448\tvalid_1's binary_logloss: 0.238768\n",
      "[LightGBM] [Warning] num_threads is set with n_jobs=-1, nthread=4 will be ignored. Current value: num_threads=-1\n",
      "Training until validation scores don't improve for 100 rounds\n",
      "[200]\ttraining's auc: 0.790838\ttraining's binary_logloss: 0.237727\tvalid_1's auc: 0.767829\tvalid_1's binary_logloss: 0.244199\n",
      "[400]\ttraining's auc: 0.811805\ttraining's binary_logloss: 0.229046\tvalid_1's auc: 0.777551\tvalid_1's binary_logloss: 0.239957\n",
      "[600]\ttraining's auc: 0.825105\ttraining's binary_logloss: 0.223718\tvalid_1's auc: 0.780853\tvalid_1's binary_logloss: 0.238654\n",
      "[800]\ttraining's auc: 0.835773\ttraining's binary_logloss: 0.219501\tvalid_1's auc: 0.782725\tvalid_1's binary_logloss: 0.237975\n",
      "[1000]\ttraining's auc: 0.845088\ttraining's binary_logloss: 0.215742\tvalid_1's auc: 0.783496\tvalid_1's binary_logloss: 0.237714\n",
      "[1200]\ttraining's auc: 0.853753\ttraining's binary_logloss: 0.212161\tvalid_1's auc: 0.784162\tvalid_1's binary_logloss: 0.237525\n",
      "[1400]\ttraining's auc: 0.861572\ttraining's binary_logloss: 0.208851\tvalid_1's auc: 0.784416\tvalid_1's binary_logloss: 0.237433\n",
      "Early stopping, best iteration is:\n",
      "[1380]\ttraining's auc: 0.860797\ttraining's binary_logloss: 0.209181\tvalid_1's auc: 0.784486\tvalid_1's binary_logloss: 0.237405\n",
      "[LightGBM] [Warning] num_threads is set with n_jobs=-1, nthread=4 will be ignored. Current value: num_threads=-1\n",
      "Training until validation scores don't improve for 100 rounds\n",
      "[200]\ttraining's auc: 0.790585\ttraining's binary_logloss: 0.237926\tvalid_1's auc: 0.775651\tvalid_1's binary_logloss: 0.242025\n",
      "[400]\ttraining's auc: 0.811144\ttraining's binary_logloss: 0.229275\tvalid_1's auc: 0.784522\tvalid_1's binary_logloss: 0.23801\n",
      "[600]\ttraining's auc: 0.825038\ttraining's binary_logloss: 0.223737\tvalid_1's auc: 0.788265\tvalid_1's binary_logloss: 0.236547\n",
      "[800]\ttraining's auc: 0.835909\ttraining's binary_logloss: 0.219435\tvalid_1's auc: 0.790233\tvalid_1's binary_logloss: 0.235886\n",
      "[1000]\ttraining's auc: 0.845216\ttraining's binary_logloss: 0.215699\tvalid_1's auc: 0.790853\tvalid_1's binary_logloss: 0.23559\n",
      "[1200]\ttraining's auc: 0.854157\ttraining's binary_logloss: 0.21204\tvalid_1's auc: 0.791156\tvalid_1's binary_logloss: 0.235376\n",
      "Early stopping, best iteration is:\n",
      "[1111]\ttraining's auc: 0.850153\ttraining's binary_logloss: 0.213672\tvalid_1's auc: 0.791235\tvalid_1's binary_logloss: 0.235421\n",
      "[LightGBM] [Warning] num_threads is set with n_jobs=-1, nthread=4 will be ignored. Current value: num_threads=-1\n",
      "Training until validation scores don't improve for 100 rounds\n",
      "[200]\ttraining's auc: 0.789901\ttraining's binary_logloss: 0.238131\tvalid_1's auc: 0.775581\tvalid_1's binary_logloss: 0.242252\n",
      "[400]\ttraining's auc: 0.81059\ttraining's binary_logloss: 0.229506\tvalid_1's auc: 0.784697\tvalid_1's binary_logloss: 0.238206\n",
      "[600]\ttraining's auc: 0.824431\ttraining's binary_logloss: 0.224017\tvalid_1's auc: 0.788505\tvalid_1's binary_logloss: 0.236764\n",
      "[800]\ttraining's auc: 0.835879\ttraining's binary_logloss: 0.219541\tvalid_1's auc: 0.78977\tvalid_1's binary_logloss: 0.236223\n",
      "[1000]\ttraining's auc: 0.845271\ttraining's binary_logloss: 0.215752\tvalid_1's auc: 0.790462\tvalid_1's binary_logloss: 0.235916\n",
      "Early stopping, best iteration is:\n",
      "[994]\ttraining's auc: 0.845024\ttraining's binary_logloss: 0.21585\tvalid_1's auc: 0.790508\tvalid_1's binary_logloss: 0.235912\n",
      "[LightGBM] [Warning] num_threads is set with n_jobs=-1, nthread=4 will be ignored. Current value: num_threads=-1\n",
      "Training until validation scores don't improve for 100 rounds\n",
      "[200]\ttraining's auc: 0.790539\ttraining's binary_logloss: 0.237817\tvalid_1's auc: 0.77162\tvalid_1's binary_logloss: 0.243582\n",
      "[400]\ttraining's auc: 0.811051\ttraining's binary_logloss: 0.229285\tvalid_1's auc: 0.78224\tvalid_1's binary_logloss: 0.239253\n",
      "[600]\ttraining's auc: 0.825109\ttraining's binary_logloss: 0.223764\tvalid_1's auc: 0.786228\tvalid_1's binary_logloss: 0.237663\n",
      "[800]\ttraining's auc: 0.836174\ttraining's binary_logloss: 0.219437\tvalid_1's auc: 0.787994\tvalid_1's binary_logloss: 0.236981\n",
      "[1000]\ttraining's auc: 0.84587\ttraining's binary_logloss: 0.215548\tvalid_1's auc: 0.789139\tvalid_1's binary_logloss: 0.236516\n",
      "[1200]\ttraining's auc: 0.854325\ttraining's binary_logloss: 0.212053\tvalid_1's auc: 0.789902\tvalid_1's binary_logloss: 0.236209\n",
      "[1400]\ttraining's auc: 0.862379\ttraining's binary_logloss: 0.208666\tvalid_1's auc: 0.790067\tvalid_1's binary_logloss: 0.236089\n",
      "[1600]\ttraining's auc: 0.869721\ttraining's binary_logloss: 0.205476\tvalid_1's auc: 0.790495\tvalid_1's binary_logloss: 0.235948\n",
      "Early stopping, best iteration is:\n",
      "[1689]\ttraining's auc: 0.872853\ttraining's binary_logloss: 0.204066\tvalid_1's auc: 0.790739\tvalid_1's binary_logloss: 0.235855\n"
     ]
    }
   ],
   "source": [
    "from sklearn.model_selection import StratifiedKFold\n",
    "from lightgbm import LGBMClassifier\n",
    "folds = StratifiedKFold(n_splits= 10, shuffle=True, random_state=2020)\n",
    "sub_preds = np.zeros(df_test.shape[0])\n",
    "feats = [f for f in df_train.columns if f not in ['TARGET','SK_ID_CURR','SK_ID_BUREAU','SK_ID_PREV','index']]\n",
    "\n",
    "for n_fold, (train_idx, valid_idx) in enumerate(folds.split(df_train[feats], df_train['TARGET'])):\n",
    "    train_x, train_y = df_train[feats].iloc[train_idx], df_train['TARGET'].iloc[train_idx]\n",
    "    valid_x, valid_y = df_train[feats].iloc[valid_idx], df_train['TARGET'].iloc[valid_idx]\n",
    "\n",
    "    lgb = LGBMClassifier(nthread=4, n_estimators=12000, learning_rate=0.02, num_leaves=31,\n",
    "        colsample_bytree=0.85,subsample=0.9, max_depth=8, reg_alpha=0.0415, reg_lambda=0.073,\n",
    "        min_split_gain=0.022, min_child_weight=39.32, silent=-1, verbose=-1)\n",
    "\n",
    "    lgb.fit(train_x, train_y, eval_set=[(train_x, train_y), (valid_x, valid_y)], \n",
    "        eval_metric= 'auc', verbose= 200, early_stopping_rounds= 100)\n",
    "\n",
    "    sub_preds += lgb.predict_proba(df_test[feats], num_iteration=lgb.best_iteration_)[:, 1] / folds.n_splits\n",
    "    \n",
    "\n",
    "# df_test['TARGET'] = sub_preds"
   ]
  },
  {
   "cell_type": "code",
   "execution_count": 23,
   "metadata": {},
   "outputs": [],
   "source": [
    "import joblib"
   ]
  },
  {
   "cell_type": "code",
   "execution_count": 25,
   "metadata": {},
   "outputs": [
    {
     "output_type": "execute_result",
     "data": {
      "text/plain": [
       "['home_credit_model.pkl']"
      ]
     },
     "metadata": {},
     "execution_count": 25
    }
   ],
   "source": [
    "joblib.dump(lgb,'home_credit_model.pkl')"
   ]
  },
  {
   "cell_type": "code",
   "execution_count": null,
   "metadata": {},
   "outputs": [],
   "source": []
  }
 ]
}